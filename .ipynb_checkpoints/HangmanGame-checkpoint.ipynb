{
 "cells": [
  {
   "cell_type": "code",
   "execution_count": 1,
   "metadata": {},
   "outputs": [],
   "source": [
    "from IPython.display import clear_output"
   ]
  },
  {
   "cell_type": "code",
   "execution_count": 2,
   "metadata": {},
   "outputs": [],
   "source": [
    "from random import choice"
   ]
  },
  {
   "cell_type": "code",
   "execution_count": 3,
   "metadata": {},
   "outputs": [],
   "source": [
    "water=['ocean','fog','rainstorm','aquatic','freezing','river','fluid','moisten','dilute']\n",
    "math=['express','grid','trivial','ring','integrate','derivative','epsilon','measure',\n",
    "      'transformation','distribution']\n",
    "descriptions=['handsomely','adaptable','abrasive','frightening','capricious',\n",
    "              'infamous','unsuitable']\n",
    "dark=['concerned','separate','unsightly','depressed','creep','difficult','painstaking',\n",
    "     'vulgar','annoying','cemetery','filthy']\n",
    "creatures=['fairies','Procyonids','Ungulates','Wyrms','Echidna','Musteloid','Marsupial',\n",
    "          'Manticore','Equine','Ichthyocentaur','Camelid','Bovine','Antelopes']\n",
    "\n"
   ]
  },
  {
   "cell_type": "code",
   "execution_count": 4,
   "metadata": {},
   "outputs": [
    {
     "name": "stdout",
     "output_type": "stream",
     "text": [
      "You lose a life for every guess that isn't the word or a letter in the word.\n",
      "\n",
      "\n",
      "lives: 3\n",
      "\n",
      "Dark: \n"
     ]
    },
    {
     "ename": "NameError",
     "evalue": "name 'word' is not defined",
     "output_type": "error",
     "traceback": [
      "\u001b[0;31m---------------------------------------------------------------------------\u001b[0m",
      "\u001b[0;31mNameError\u001b[0m                                 Traceback (most recent call last)",
      "\u001b[0;32m<ipython-input-4-7ceb9bc3e89d>\u001b[0m in \u001b[0;36m<module>\u001b[0;34m()\u001b[0m\n\u001b[1;32m     44\u001b[0m     \u001b[0mprint\u001b[0m\u001b[0;34m(\u001b[0m\u001b[0;34m'lives: {}\\n'\u001b[0m\u001b[0;34m.\u001b[0m\u001b[0mformat\u001b[0m\u001b[0;34m(\u001b[0m\u001b[0mlives\u001b[0m\u001b[0;34m)\u001b[0m\u001b[0;34m)\u001b[0m\u001b[0;34m\u001b[0m\u001b[0m\n\u001b[1;32m     45\u001b[0m     \u001b[0mprint\u001b[0m\u001b[0;34m(\u001b[0m\u001b[0;34m\"{}: \"\u001b[0m\u001b[0;34m.\u001b[0m\u001b[0mformat\u001b[0m\u001b[0;34m(\u001b[0m\u001b[0mword_class\u001b[0m\u001b[0;34m)\u001b[0m\u001b[0;34m)\u001b[0m\u001b[0;34m\u001b[0m\u001b[0m\n\u001b[0;32m---> 46\u001b[0;31m     \u001b[0;32mfor\u001b[0m \u001b[0ms\u001b[0m \u001b[0;32min\u001b[0m \u001b[0mword\u001b[0m\u001b[0;34m:\u001b[0m\u001b[0;34m\u001b[0m\u001b[0m\n\u001b[0m\u001b[1;32m     47\u001b[0m         \u001b[0;32mif\u001b[0m \u001b[0ms\u001b[0m \u001b[0;32min\u001b[0m \u001b[0mguessed\u001b[0m\u001b[0;34m:\u001b[0m\u001b[0;34m\u001b[0m\u001b[0m\n\u001b[1;32m     48\u001b[0m             \u001b[0mprint\u001b[0m\u001b[0;34m(\u001b[0m\u001b[0;34m\"{} \"\u001b[0m\u001b[0;34m.\u001b[0m\u001b[0mformat\u001b[0m\u001b[0;34m(\u001b[0m\u001b[0ms\u001b[0m\u001b[0;34m)\u001b[0m\u001b[0;34m,\u001b[0m\u001b[0mend\u001b[0m\u001b[0;34m=\u001b[0m\u001b[0;34m\"\"\u001b[0m\u001b[0;34m)\u001b[0m\u001b[0;34m\u001b[0m\u001b[0m\n",
      "\u001b[0;31mNameError\u001b[0m: name 'word' is not defined"
     ]
    }
   ],
   "source": [
    "print(\"Let's play a game of hangman!\")\n",
    "print('\\n\\n\\n')\n",
    "categories=['Water','Math','Descriptions','Dark','Creatures']\n",
    "for c in categories:\n",
    "    print(\"{}\".format(c),end=\", \")\n",
    "print('\\n')\n",
    "word_class=input(\"What kind of word do you want? \").title()\n",
    "while word_class not in categories:\n",
    "    clear_output()\n",
    "    for c in categories:\n",
    "        print(\"{}\".format(c),end=\", \")\n",
    "    print('\\n')\n",
    "    word_class=input(\"What kind of word do you want? \").title()\n",
    "\n",
    "    \n",
    "digits=list(\"0123456789\")\n",
    "lives=input(\"How many tries would you like? \")\n",
    "while True:\n",
    "    try:\n",
    "        lives=int(lives)\n",
    "        break\n",
    "    except:\n",
    "        clear_output()\n",
    "        lives=input(\"Try a number this time. \")\n",
    "        \n",
    "        \n",
    "if word_class=='Math':\n",
    "    word=choice(math).lower()\n",
    "elif word_class=='Water':\n",
    "    word=choice(water).lower()\n",
    "elif word_class=='Descriptions':\n",
    "    word=choice(descriptions).lower()\n",
    "elif word_class=='Dark':\n",
    "    word=choice(dark).lower()\n",
    "elif word_class=='Creatures':\n",
    "    word=choice(creatures).lower()\n",
    "    \n",
    "    \n",
    "guessed=set()\n",
    "while True:\n",
    "    clear_output()\n",
    "    print(\"You lose a life for every guess that isn't the word or a letter in the word.\")\n",
    "    print(\"\\n\")\n",
    "    print('lives: {}\\n'.format(lives))\n",
    "    print(\"{}: \".format(word_class))\n",
    "    for s in word:\n",
    "        if s in guessed:\n",
    "            print(\"{} \".format(s),end=\"\")\n",
    "        else:\n",
    "            print(\"_ \",end=\"\")\n",
    "    print(\"\\n\")\n",
    "    print(\"Letters you've guessed wrong:\")\n",
    "    print(', '.join(guessed - set(word)))\n",
    "    u_input=input(\"Guess a letter or the whole word. \").lower()\n",
    "    guessed.add(u_input)\n",
    "    clear_output()\n",
    "    if u_input == word:\n",
    "        clear_output()\n",
    "        print(\"The word was: {}.  You Win!\".format(word.title()))\n",
    "        break\n",
    "    elif guessed.issuperset(set(word)):\n",
    "        clear_output()\n",
    "        print('\\n\\n')\n",
    "        print(\"The word was:   {}.    You Win!\".format(word.title()))\n",
    "        print('\\n\\n')\n",
    "        break\n",
    "    if u_input in word:\n",
    "        continue\n",
    "    else:\n",
    "        lives-=1\n",
    "        if lives<1:\n",
    "            clear_output()\n",
    "            print('\\n\\n')\n",
    "            print(\"You Lose...\")\n",
    "            print('\\n\\n')\n",
    "            print(\"The word was: \"+word)\n",
    "            break\n",
    "             \n",
    "        \n",
    "        "
   ]
  },
  {
   "cell_type": "code",
   "execution_count": null,
   "metadata": {},
   "outputs": [],
   "source": []
  }
 ],
 "metadata": {
  "kernelspec": {
   "display_name": "Python 3",
   "language": "python",
   "name": "python3"
  },
  "language_info": {
   "codemirror_mode": {
    "name": "ipython",
    "version": 3
   },
   "file_extension": ".py",
   "mimetype": "text/x-python",
   "name": "python",
   "nbconvert_exporter": "python",
   "pygments_lexer": "ipython3",
   "version": "3.6.5"
  }
 },
 "nbformat": 4,
 "nbformat_minor": 2
}

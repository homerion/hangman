{
 "cells": [
  {
   "cell_type": "code",
   "execution_count": 39,
   "metadata": {},
   "outputs": [],
   "source": [
    "from IPython.display import clear_output"
   ]
  },
  {
   "cell_type": "code",
   "execution_count": 88,
   "metadata": {},
   "outputs": [],
   "source": [
    "from random import choice"
   ]
  },
  {
   "cell_type": "code",
   "execution_count": 92,
   "metadata": {},
   "outputs": [],
   "source": [
    "water=['ocean','fog','rainstorm','aquatic','freezing','river','fluid','moisten','dilute']\n",
    "math=['express','grid','trivial','ring','integrate','derivative','epsilon','measure',\n",
    "      'transformation','distribution']\n",
    "descriptions=['handsomely','adaptable','abrasive','frightening','capricious',\n",
    "              'infamous','unsuitable']\n",
    "dark=['concerned','separate','unsightly','depressed','creep','difficult','painstaking',\n",
    "     'vulgar','annoying','cemetery','filthy']\n",
    "creatures=['fairies','Procyonids','Ungulates','Wyrms','Echidna','Musteloid','Marsupial',\n",
    "          'Manticore','Equine','Ichthyocentaur','Camelid','Bovine','Antelopes']\n",
    "\n"
   ]
  },
  {
   "cell_type": "code",
   "execution_count": 100,
   "metadata": {},
   "outputs": [
    {
     "name": "stdout",
     "output_type": "stream",
     "text": [
      "\n",
      "\n",
      "\n",
      "The word was:   Concerned.    You Win!\n",
      "\n",
      "\n",
      "\n"
     ]
    }
   ],
   "source": [
    "print(\"Let's play a game of hangman!\")\n",
    "print('\\n\\n\\n')\n",
    "categories=['Water','Math','Descriptions','Dark','Creatures']\n",
    "for c in categories:\n",
    "    print(\"{}\".format(c),end=\", \")\n",
    "print('\\n')\n",
    "word_class=input(\"What kind of word do you want? \").title()\n",
    "while word_class not in categories:\n",
    "    clear_output()\n",
    "    for c in categories:\n",
    "        print(\"{}\".format(c),end=\", \")\n",
    "    print('\\n')\n",
    "    word_class=input(\"What kind of word do you want? \").title()\n",
    "\n",
    "    \n",
    "digits=list(\"0123456789\")\n",
    "lives=input(\"How many tries would you like? \")\n",
    "while True:\n",
    "    try:\n",
    "        lives=int(lives)\n",
    "        break\n",
    "    except:\n",
    "        clear_output()\n",
    "        lives=input(\"Try a number this time. \")\n",
    "        \n",
    "        \n",
    "if word_class=='Math':\n",
    "    word=choice(math).lower()\n",
    "elif word_class=='Water':\n",
    "    word=choice(water).lower()\n",
    "elif word_class=='Descriptions':\n",
    "    word=choice(descriptions).lower()\n",
    "elif word_class=='Sad':\n",
    "    word=choice(dark).lower()\n",
    "elif word_class=='Creatures':\n",
    "    word=choice(creatures).lower()\n",
    "    \n",
    "    \n",
    "guessed=set()\n",
    "while True:\n",
    "    clear_output()\n",
    "    print(\"You lose a life for every guess that isn't the word or a letter in the word.\")\n",
    "    print(\"\\n\")\n",
    "    print('lives: {}\\n'.format(lives))\n",
    "    print(\"{}: \".format(word_class))\n",
    "    for s in word:\n",
    "        if s in guessed:\n",
    "            print(\"{} \".format(s),end=\"\")\n",
    "        else:\n",
    "            print(\"_ \",end=\"\")\n",
    "    print(\"\\n\")\n",
    "    print(\"Letters you've guessed wrong:\")\n",
    "    print(', '.join(guessed - set(word)))\n",
    "    u_input=input(\"Guess a letter or the whole word. \").lower()\n",
    "    guessed.add(u_input)\n",
    "    clear_output()\n",
    "    if u_input == word:\n",
    "        clear_output()\n",
    "        print(\"The word was: {}.  You Win!\".format(word.title()))\n",
    "        break\n",
    "    elif guessed.issuperset(set(word)):\n",
    "        clear_output()\n",
    "        print('\\n\\n')\n",
    "        print(\"The word was:   {}.    You Win!\".format(word.title()))\n",
    "        print('\\n\\n')\n",
    "        break\n",
    "    if u_input in word:\n",
    "        continue\n",
    "    else:\n",
    "        lives-=1\n",
    "        if lives<1:\n",
    "            clear_output()\n",
    "            print('\\n\\n')\n",
    "            print(\"You Lose...\")\n",
    "            print('\\n\\n')\n",
    "            print(\"The word was: \"+word)\n",
    "            break\n",
    "             \n",
    "        \n",
    "        "
   ]
  },
  {
   "cell_type": "code",
   "execution_count": 21,
   "metadata": {},
   "outputs": [],
   "source": []
  }
 ],
 "metadata": {
  "kernelspec": {
   "display_name": "Python 3",
   "language": "python",
   "name": "python3"
  },
  "language_info": {
   "codemirror_mode": {
    "name": "ipython",
    "version": 3
   },
   "file_extension": ".py",
   "mimetype": "text/x-python",
   "name": "python",
   "nbconvert_exporter": "python",
   "pygments_lexer": "ipython3",
   "version": "3.6.5"
  }
 },
 "nbformat": 4,
 "nbformat_minor": 2
}
